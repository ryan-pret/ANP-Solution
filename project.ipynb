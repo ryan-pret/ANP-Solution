{
 "cells": [
  {
   "cell_type": "markdown",
   "metadata": {},
   "source": [
    "# Imports\n",
    "Here we import the necessary modules which will help us to "
   ]
  },
  {
   "cell_type": "code",
   "execution_count": null,
   "metadata": {},
   "outputs": [],
   "source": [
    "import pandas as pd\n",
    "import numpy as np\n",
    "from pyanp import priority\n",
    "from pyanp import limitmatrix as lm"
   ]
  },
  {
   "cell_type": "markdown",
   "metadata": {},
   "source": [
    "# Data\n",
    "The data to get started needs to be loaded in as either a numpy array or via an excel spreadsheet, for sake of simplicity an excel spreadsheet will be used\n",
    "- We need to load all our piecewise comparison matrices in from excel into python in order to get the weights (or priorities)\n",
    "- When using excel as the input medium, each piecewise comparison matrix needs to be in a seperate excel file in order to assign it a variable, which can be slower but for the sake of understanding is far easier"
   ]
  },
  {
   "cell_type": "code",
   "execution_count": null,
   "metadata": {},
   "outputs": [],
   "source": [
    "criteria_mat = priority.get_matrix(\"Critera_Matrix.xlsx\")\n",
    "AltTop = priority.get_matrix(\"AltwrtToppings.xlsx\")\n",
    "AltCrust = priority.get_matrix(\"AltwrtCrust.xlsx\")\n",
    "AltCheese = priority.get_matrix(\"AltwrtCheeseSauce.xlsx\")\n",
    "AltX = priority.get_matrix(\"AltwrtXFactor.xlsx\")"
   ]
  },
  {
   "cell_type": "markdown",
   "metadata": {},
   "source": [
    "# Getting weights/priorities\n",
    "We now need to get the weights/priorities in order to further our process"
   ]
  },
  {
   "cell_type": "markdown",
   "metadata": {},
   "source": [
    "## Priorities for criteria matrix"
   ]
  },
  {
   "cell_type": "code",
   "execution_count": null,
   "metadata": {},
   "outputs": [],
   "source": [
    "priority.pri_eigen(criteria_mat)"
   ]
  },
  {
   "cell_type": "markdown",
   "metadata": {},
   "source": [
    "## Priorities for Alternatives with respect to toppings"
   ]
  },
  {
   "cell_type": "code",
   "execution_count": null,
   "metadata": {},
   "outputs": [],
   "source": [
    "priority.pri_eigen(AltTop)"
   ]
  },
  {
   "cell_type": "markdown",
   "metadata": {},
   "source": [
    "## Priorities for Alternatives with respect to crust"
   ]
  },
  {
   "cell_type": "code",
   "execution_count": null,
   "metadata": {},
   "outputs": [],
   "source": [
    "priority.pri_eigen(AltCrust)"
   ]
  },
  {
   "cell_type": "markdown",
   "metadata": {},
   "source": [
    "## Priorities for Alternatives with respect to cheese to sauce ratio"
   ]
  },
  {
   "cell_type": "code",
   "execution_count": null,
   "metadata": {},
   "outputs": [],
   "source": [
    "priority.pri_eigen(AltCheese)"
   ]
  },
  {
   "cell_type": "markdown",
   "metadata": {},
   "source": [
    "## Priorities for Alternatives with respect to X-Factor"
   ]
  },
  {
   "cell_type": "code",
   "execution_count": null,
   "metadata": {},
   "outputs": [],
   "source": [
    "priority.pri_eigen(AltX)"
   ]
  },
  {
   "cell_type": "markdown",
   "metadata": {},
   "source": [
    "# Super Matrix\n",
    "Now that we have gotten priorities for all relevant alternatives with respect to the criteria, we now need to construct a super matrix containing the goal, all criteria (c1 ... c4), and all alternatives (a1 ... a5), which results in a 10 x 10 matrix.\n",
    "\n",
    "In order to finalize this matrix, we need to construct one last piecewise comparison matrix which ranks each restaurants with respect to each category, which is purely subjective and is described in the example section (size 4 x 5)"
   ]
  },
  {
   "cell_type": "code",
   "execution_count": 14,
   "metadata": {},
   "outputs": [
    {
     "name": "stdout",
     "output_type": "stream",
     "text": [
      "[[0.   0.   0.   0.   0.   0.   0.   0.   0.   0.  ]\n",
      " [0.18 0.   0.   0.   0.   0.41 0.22 0.22 0.25 0.17]\n",
      " [0.51 0.   0.   0.   0.   0.18 0.26 0.23 0.3  0.26]\n",
      " [0.22 0.   0.   0.   0.   0.18 0.22 0.27 0.3  0.26]\n",
      " [0.09 0.   0.   0.   0.   0.22 0.3  0.27 0.15 0.31]\n",
      " [0.   0.42 0.08 0.11 0.39 0.   0.   0.   0.   0.  ]\n",
      " [0.   0.15 0.29 0.31 0.3  0.   0.   0.   0.   0.  ]\n",
      " [0.   0.26 0.46 0.12 0.07 0.   0.   0.   0.   0.  ]\n",
      " [0.   0.14 0.13 0.41 0.16 0.   0.   0.   0.   0.  ]\n",
      " [0.   0.03 0.04 0.05 0.08 0.   0.   0.   0.   0.  ]]\n"
     ]
    }
   ],
   "source": [
    "supermat = lm.get_matrix(\"SuperMatrix.xlsx\")\n",
    "print(supermat)"
   ]
  },
  {
   "cell_type": "markdown",
   "metadata": {},
   "source": [
    "# Limit Matrix\n",
    "From the super matrix, we can calculate the limit matrix by raising the super matrix to the power of K where K is an arbitarily large value, this will yield rankings for each pizza restaurant which we can read off to see which restaurant ranks supreme based on the given criteria "
   ]
  },
  {
   "cell_type": "code",
   "execution_count": 22,
   "metadata": {},
   "outputs": [
    {
     "name": "stdout",
     "output_type": "stream",
     "text": [
      "Count was 0\n"
     ]
    },
    {
     "data": {
      "text/plain": [
       "array([[0.        , 0.        , 0.        , 0.        , 0.        ,\n",
       "        0.        , 0.        , 0.        , 0.        , 0.        ],\n",
       "       [0.        , 0.27365816, 0.27365816, 0.27365816, 0.27365816,\n",
       "        0.        , 0.        , 0.        , 0.        , 0.        ],\n",
       "       [0.        , 0.24216369, 0.24216369, 0.24216369, 0.24216369,\n",
       "        0.        , 0.        , 0.        , 0.        , 0.        ],\n",
       "       [0.        , 0.24093964, 0.24093964, 0.24093964, 0.24093964,\n",
       "        0.        , 0.        , 0.        , 0.        , 0.        ],\n",
       "       [0.        , 0.24323852, 0.24323852, 0.24323852, 0.24323852,\n",
       "        0.        , 0.        , 0.        , 0.        , 0.        ],\n",
       "       [0.2556759 , 0.        , 0.        , 0.        , 0.        ,\n",
       "        0.2556759 , 0.2556759 , 0.2556759 , 0.2556759 , 0.2556759 ],\n",
       "       [0.25893904, 0.        , 0.        , 0.        , 0.        ,\n",
       "        0.25893904, 0.25893904, 0.25893904, 0.25893904, 0.25893904],\n",
       "       [0.22848587, 0.        , 0.        , 0.        , 0.        ,\n",
       "        0.22848587, 0.22848587, 0.22848587, 0.22848587, 0.22848587],\n",
       "       [0.20749684, 0.        , 0.        , 0.        , 0.        ,\n",
       "        0.20749684, 0.20749684, 0.20749684, 0.20749684, 0.20749684],\n",
       "       [0.04940236, 0.        , 0.        , 0.        , 0.        ,\n",
       "        0.04940236, 0.04940236, 0.04940236, 0.04940236, 0.04940236]])"
      ]
     },
     "execution_count": 22,
     "metadata": {},
     "output_type": "execute_result"
    }
   ],
   "source": [
    "lm.calculus(supermat)"
   ]
  },
  {
   "cell_type": "markdown",
   "metadata": {},
   "source": [
    "Now that we have obtained the limit matrix, we can extract column 1's 6-10th element which correspond to the ranking of each restaurant accordingly"
   ]
  },
  {
   "cell_type": "code",
   "execution_count": 26,
   "metadata": {},
   "outputs": [
    {
     "name": "stdout",
     "output_type": "stream",
     "text": [
      "Count was 0\n"
     ]
    },
    {
     "data": {
      "text/plain": [
       "array([0.        , 0.        , 0.        , 0.        , 0.        ,\n",
       "       0.2556759 , 0.25893904, 0.22848587, 0.20749684, 0.04940236])"
      ]
     },
     "execution_count": 26,
     "metadata": {},
     "output_type": "execute_result"
    }
   ],
   "source": [
    "lm.calculus(supermat)[: ,0]"
   ]
  },
  {
   "cell_type": "markdown",
   "metadata": {},
   "source": [
    "# Ranking using ANP\n",
    "- 1) Thirsty Scarecrow\n",
    "- 2) Romans\n",
    "- 3) Ginos\n",
    "- 4) Bohemia\n",
    "- 5) En-route"
   ]
  }
 ],
 "metadata": {
  "interpreter": {
   "hash": "916dbcbb3f70747c44a77c7bcd40155683ae19c65e1c03b4aa3499c5328201f1"
  },
  "kernelspec": {
   "display_name": "Python 3.8.10 64-bit",
   "name": "python3"
  },
  "language_info": {
   "codemirror_mode": {
    "name": "ipython",
    "version": 3
   },
   "file_extension": ".py",
   "mimetype": "text/x-python",
   "name": "python",
   "nbconvert_exporter": "python",
   "pygments_lexer": "ipython3",
   "version": "3.8.10"
  },
  "orig_nbformat": 4
 },
 "nbformat": 4,
 "nbformat_minor": 2
}
